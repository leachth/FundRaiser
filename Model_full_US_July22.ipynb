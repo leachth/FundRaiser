{
 "cells": [
  {
   "cell_type": "markdown",
   "metadata": {},
   "source": [
    "# FundRaiser  \n",
    "## Data Cleaning  \n",
    "\n",
    "Overview: This notebook contains the code for Random Forest Regression algorithm to predict next cycle donation probability for each zipcode in the US.  \n",
    "\n",
    "Donor probability is the number of donors in each zipcode, for each party as a proportion of the total number of possible donors in each zipcode, here the total population over the age of 18.\n",
    "\n",
    "THL  \n",
    "last updated July 22, 2019 (fixed comments only)"
   ]
  },
  {
   "cell_type": "code",
   "execution_count": 136,
   "metadata": {},
   "outputs": [],
   "source": [
    "import pandas as pd\n",
    "import numpy as np\n",
    "import os\n",
    "import seaborn as sns\n",
    "import matplotlib.pyplot as plt"
   ]
  },
  {
   "cell_type": "code",
   "execution_count": 137,
   "metadata": {},
   "outputs": [],
   "source": [
    "df = pd.read_csv(\"/Users/Taylor/Dropbox/0_Insight/PoliticalDonations/data/fullset_june30.csv\",\n",
    "                dtype={'zipcode': object, 'Pres_y1': object})\n"
   ]
  },
  {
   "cell_type": "code",
   "execution_count": 138,
   "metadata": {},
   "outputs": [],
   "source": [
    "#df.dtypes"
   ]
  },
  {
   "cell_type": "code",
   "execution_count": 139,
   "metadata": {},
   "outputs": [],
   "source": [
    "#df.isnull().sum()"
   ]
  },
  {
   "cell_type": "code",
   "execution_count": 140,
   "metadata": {},
   "outputs": [
    {
     "data": {
      "text/html": [
       "<div>\n",
       "<style scoped>\n",
       "    .dataframe tbody tr th:only-of-type {\n",
       "        vertical-align: middle;\n",
       "    }\n",
       "\n",
       "    .dataframe tbody tr th {\n",
       "        vertical-align: top;\n",
       "    }\n",
       "\n",
       "    .dataframe thead th {\n",
       "        text-align: right;\n",
       "    }\n",
       "</style>\n",
       "<table border=\"1\" class=\"dataframe\">\n",
       "  <thead>\n",
       "    <tr style=\"text-align: right;\">\n",
       "      <th></th>\n",
       "      <th>fecyear</th>\n",
       "      <th>zipcode</th>\n",
       "      <th>party</th>\n",
       "      <th>amt</th>\n",
       "      <th>ndon</th>\n",
       "      <th>amt_lastcycle</th>\n",
       "      <th>ndon_lastcycle</th>\n",
       "      <th>totalpopulation</th>\n",
       "      <th>median_age</th>\n",
       "      <th>totalpopulation_over18</th>\n",
       "      <th>...</th>\n",
       "      <th>a18450</th>\n",
       "      <th>a18500</th>\n",
       "      <th>a18300</th>\n",
       "      <th>a07260</th>\n",
       "      <th>a07220</th>\n",
       "      <th>a06500</th>\n",
       "      <th>cd</th>\n",
       "      <th>donor_prob</th>\n",
       "      <th>donor_prob_lastcycle</th>\n",
       "      <th>Pres_y1</th>\n",
       "    </tr>\n",
       "  </thead>\n",
       "  <tbody>\n",
       "    <tr>\n",
       "      <th>111986</th>\n",
       "      <td>2010</td>\n",
       "      <td>54721</td>\n",
       "      <td>THR</td>\n",
       "      <td>0</td>\n",
       "      <td>0</td>\n",
       "      <td>0</td>\n",
       "      <td>0</td>\n",
       "      <td>1373</td>\n",
       "      <td>42.6</td>\n",
       "      <td>1057.0</td>\n",
       "      <td>...</td>\n",
       "      <td>0.000000</td>\n",
       "      <td>0.715336</td>\n",
       "      <td>1.749583</td>\n",
       "      <td>0.057399</td>\n",
       "      <td>0.268907</td>\n",
       "      <td>3.048849</td>\n",
       "      <td>3.0</td>\n",
       "      <td>0.0</td>\n",
       "      <td>0.0</td>\n",
       "      <td>0</td>\n",
       "    </tr>\n",
       "    <tr>\n",
       "      <th>155742</th>\n",
       "      <td>2012</td>\n",
       "      <td>15697</td>\n",
       "      <td>DEM</td>\n",
       "      <td>0</td>\n",
       "      <td>0</td>\n",
       "      <td>0</td>\n",
       "      <td>0</td>\n",
       "      <td>3038</td>\n",
       "      <td>42.9</td>\n",
       "      <td>2478.0</td>\n",
       "      <td>...</td>\n",
       "      <td>0.006434</td>\n",
       "      <td>0.234518</td>\n",
       "      <td>0.629707</td>\n",
       "      <td>0.005215</td>\n",
       "      <td>0.179761</td>\n",
       "      <td>3.162576</td>\n",
       "      <td>14.0</td>\n",
       "      <td>0.0</td>\n",
       "      <td>0.0</td>\n",
       "      <td>1</td>\n",
       "    </tr>\n",
       "    <tr>\n",
       "      <th>13541</th>\n",
       "      <td>2008</td>\n",
       "      <td>16731</td>\n",
       "      <td>REP</td>\n",
       "      <td>0</td>\n",
       "      <td>0</td>\n",
       "      <td>0</td>\n",
       "      <td>0</td>\n",
       "      <td>2956</td>\n",
       "      <td>37.9</td>\n",
       "      <td>2200.0</td>\n",
       "      <td>...</td>\n",
       "      <td>0.000000</td>\n",
       "      <td>0.185460</td>\n",
       "      <td>0.623145</td>\n",
       "      <td>0.000000</td>\n",
       "      <td>0.252226</td>\n",
       "      <td>2.974777</td>\n",
       "      <td>15.0</td>\n",
       "      <td>0.0</td>\n",
       "      <td>0.0</td>\n",
       "      <td>1</td>\n",
       "    </tr>\n",
       "    <tr>\n",
       "      <th>186066</th>\n",
       "      <td>2012</td>\n",
       "      <td>52753</td>\n",
       "      <td>THR</td>\n",
       "      <td>0</td>\n",
       "      <td>0</td>\n",
       "      <td>0</td>\n",
       "      <td>0</td>\n",
       "      <td>5153</td>\n",
       "      <td>41.9</td>\n",
       "      <td>3934.0</td>\n",
       "      <td>...</td>\n",
       "      <td>0.045333</td>\n",
       "      <td>1.780316</td>\n",
       "      <td>5.343406</td>\n",
       "      <td>0.011420</td>\n",
       "      <td>0.245080</td>\n",
       "      <td>11.714970</td>\n",
       "      <td>2.0</td>\n",
       "      <td>0.0</td>\n",
       "      <td>0.0</td>\n",
       "      <td>1</td>\n",
       "    </tr>\n",
       "    <tr>\n",
       "      <th>12530</th>\n",
       "      <td>2008</td>\n",
       "      <td>15427</td>\n",
       "      <td>THR</td>\n",
       "      <td>0</td>\n",
       "      <td>0</td>\n",
       "      <td>0</td>\n",
       "      <td>0</td>\n",
       "      <td>1162</td>\n",
       "      <td>42.5</td>\n",
       "      <td>941.0</td>\n",
       "      <td>...</td>\n",
       "      <td>0.000000</td>\n",
       "      <td>0.164835</td>\n",
       "      <td>0.421245</td>\n",
       "      <td>0.000000</td>\n",
       "      <td>0.201465</td>\n",
       "      <td>3.150183</td>\n",
       "      <td>14.0</td>\n",
       "      <td>0.0</td>\n",
       "      <td>0.0</td>\n",
       "      <td>1</td>\n",
       "    </tr>\n",
       "  </tbody>\n",
       "</table>\n",
       "<p>5 rows × 71 columns</p>\n",
       "</div>"
      ],
      "text/plain": [
       "        fecyear zipcode party  amt  ndon  amt_lastcycle  ndon_lastcycle  \\\n",
       "111986     2010   54721   THR    0     0              0               0   \n",
       "155742     2012   15697   DEM    0     0              0               0   \n",
       "13541      2008   16731   REP    0     0              0               0   \n",
       "186066     2012   52753   THR    0     0              0               0   \n",
       "12530      2008   15427   THR    0     0              0               0   \n",
       "\n",
       "        totalpopulation  median_age  totalpopulation_over18   ...     \\\n",
       "111986             1373        42.6                  1057.0   ...      \n",
       "155742             3038        42.9                  2478.0   ...      \n",
       "13541              2956        37.9                  2200.0   ...      \n",
       "186066             5153        41.9                  3934.0   ...      \n",
       "12530              1162        42.5                   941.0   ...      \n",
       "\n",
       "          a18450    a18500    a18300    a07260    a07220     a06500    cd  \\\n",
       "111986  0.000000  0.715336  1.749583  0.057399  0.268907   3.048849   3.0   \n",
       "155742  0.006434  0.234518  0.629707  0.005215  0.179761   3.162576  14.0   \n",
       "13541   0.000000  0.185460  0.623145  0.000000  0.252226   2.974777  15.0   \n",
       "186066  0.045333  1.780316  5.343406  0.011420  0.245080  11.714970   2.0   \n",
       "12530   0.000000  0.164835  0.421245  0.000000  0.201465   3.150183  14.0   \n",
       "\n",
       "        donor_prob  donor_prob_lastcycle  Pres_y1  \n",
       "111986         0.0                   0.0        0  \n",
       "155742         0.0                   0.0        1  \n",
       "13541          0.0                   0.0        1  \n",
       "186066         0.0                   0.0        1  \n",
       "12530          0.0                   0.0        1  \n",
       "\n",
       "[5 rows x 71 columns]"
      ]
     },
     "execution_count": 140,
     "metadata": {},
     "output_type": "execute_result"
    }
   ],
   "source": [
    "df.sample(5)"
   ]
  },
  {
   "cell_type": "code",
   "execution_count": 141,
   "metadata": {},
   "outputs": [],
   "source": [
    "df = pd.get_dummies(data=df, columns=['party'])\n",
    "#df.head(5)"
   ]
  },
  {
   "cell_type": "markdown",
   "metadata": {},
   "source": [
    "Create the test-train splits and a hold out for later model validation. \n",
    "Since there is inherent time component to these data I am not going to do this randomly. \n",
    "\n",
    "I am going to train on the 2008-2010 data, test on 2012 data, and keep the 2014 data as an additional holdout validation, and to use for the app. "
   ]
  },
  {
   "cell_type": "code",
   "execution_count": 142,
   "metadata": {},
   "outputs": [],
   "source": [
    "dfval = df[df.fecyear == 2014 ]\n",
    "dftt = df[df.fecyear != 2014]\n",
    "\n",
    "# for later outputs\n",
    "valset_tokeep = df[df.fecyear == 2014 ]"
   ]
  },
  {
   "cell_type": "code",
   "execution_count": 143,
   "metadata": {},
   "outputs": [
    {
     "data": {
      "text/plain": [
       "(219968, 73)"
      ]
     },
     "execution_count": 143,
     "metadata": {},
     "output_type": "execute_result"
    }
   ],
   "source": [
    "dfval.shape\n",
    "dftt.shape"
   ]
  },
  {
   "cell_type": "markdown",
   "metadata": {},
   "source": [
    "Manually create the test-train splits by year rather than a random split to better capture the time component of these data."
   ]
  },
  {
   "cell_type": "code",
   "execution_count": 144,
   "metadata": {},
   "outputs": [],
   "source": [
    "df_0810  = df[df.fecyear < 2012 ]\n",
    "df_12 = df[df.fecyear == 2012]\n",
    "#df_12.describe()"
   ]
  },
  {
   "cell_type": "markdown",
   "metadata": {},
   "source": [
    "Remove the target and a few other features that don't make sense, and/or where used to create the target (axis 1 is columns). \n",
    "\n",
    "I also removed the within fecyear amount and ndonors as I would not know those for the next cycle, and will only keep the one from previous cycle.  \n",
    "\n",
    "n1 and n2 are basically the same thing as total population. \n",
    "\n",
    "Congressional district (cd) also does not make sense to include here. It likley matters at a broader scale but I don't have much data to inform that at this point so including it in the model does not make sense. I also envision this model being use for candidates running for smaller state and local offices as well so predicting agnostic of congressional district makes sense in that context as well."
   ]
  },
  {
   "cell_type": "code",
   "execution_count": 145,
   "metadata": {},
   "outputs": [],
   "source": [
    "# get the data in the correct format for a RF\n",
    "labels = np.array(df_0810['donor_prob'])\n",
    "\n",
    "df_0810 = df_0810.drop(['amt', 'ndon', 'donor_prob', 'donor_prob_lastcycle'\n",
    "                  , 'totalpopulation_over18', 'zipcode', 'cd'\n",
    "                  , 'n1', 'n2'], axis = 1)\n",
    "\n",
    "# Saving feature names for later use\n",
    "df_0810_list = list(df_0810.columns)\n",
    "\n",
    "# Convert to numpy array\n",
    "df_0810 = np.array(df_0810)"
   ]
  },
  {
   "cell_type": "code",
   "execution_count": 146,
   "metadata": {},
   "outputs": [],
   "source": [
    "# get the data in the correct format for a RF\n",
    "labels12 = np.array(df_12['donor_prob'])\n",
    "\n",
    "df_12 = df_12.drop(['amt', 'ndon', 'donor_prob', 'donor_prob_lastcycle'\n",
    "                  , 'totalpopulation_over18', 'zipcode', 'cd'\n",
    "                  , 'n1', 'n2'], axis = 1)\n",
    "\n",
    "# Saving feature names for later use\n",
    "df_12_list = list(df_12.columns)\n",
    "\n",
    "# Convert to numpy array\n",
    "df_12 = np.array(df_12)"
   ]
  },
  {
   "cell_type": "code",
   "execution_count": 147,
   "metadata": {},
   "outputs": [],
   "source": [
    "from sklearn.ensemble import RandomForestRegressor\n",
    "rf = RandomForestRegressor(n_estimators = 30, random_state = 8675309)"
   ]
  },
  {
   "cell_type": "code",
   "execution_count": 148,
   "metadata": {},
   "outputs": [
    {
     "data": {
      "text/plain": [
       "RandomForestRegressor(bootstrap=True, criterion='mse', max_depth=None,\n",
       "           max_features='auto', max_leaf_nodes=None,\n",
       "           min_impurity_decrease=0.0, min_impurity_split=None,\n",
       "           min_samples_leaf=1, min_samples_split=2,\n",
       "           min_weight_fraction_leaf=0.0, n_estimators=30, n_jobs=None,\n",
       "           oob_score=False, random_state=8675309, verbose=0,\n",
       "           warm_start=False)"
      ]
     },
     "execution_count": 148,
     "metadata": {},
     "output_type": "execute_result"
    }
   ],
   "source": [
    "# Train the model on training data\n",
    "rf.fit(df_0810, labels)"
   ]
  },
  {
   "cell_type": "code",
   "execution_count": 149,
   "metadata": {},
   "outputs": [],
   "source": [
    "predictions = rf.predict(df_12)"
   ]
  },
  {
   "cell_type": "code",
   "execution_count": 150,
   "metadata": {},
   "outputs": [
    {
     "data": {
      "text/plain": [
       "0.7191719747388702"
      ]
     },
     "execution_count": 150,
     "metadata": {},
     "output_type": "execute_result"
    }
   ],
   "source": [
    "from sklearn import metrics\n",
    "metrics.explained_variance_score(labels12, predictions)\n",
    "# with only 10 trees  = 0.618\n",
    "# with 20 trees = 0.71\n",
    "# with 30 trees = 0.72"
   ]
  },
  {
   "cell_type": "code",
   "execution_count": 151,
   "metadata": {},
   "outputs": [
    {
     "data": {
      "text/plain": [
       "1.4200467261493688e-05"
      ]
     },
     "execution_count": 151,
     "metadata": {},
     "output_type": "execute_result"
    }
   ],
   "source": [
    "metrics.mean_squared_error(labels12, predictions) \n",
    "# with 10 trees = 1.552e-05\n",
    "# with 20 trees = 1.472e-05\n",
    "# with 30 trees = 1.420e-05"
   ]
  },
  {
   "cell_type": "code",
   "execution_count": 152,
   "metadata": {},
   "outputs": [
    {
     "data": {
      "text/plain": [
       "0.0002090304510898082"
      ]
     },
     "execution_count": 152,
     "metadata": {},
     "output_type": "execute_result"
    }
   ],
   "source": [
    "metrics.median_absolute_error(labels12, predictions)\n",
    "# with 10 trees  = 0.00022\n",
    "# with 20 trees  = 0.00019\n",
    "# with 30 trees  = 0.00020"
   ]
  },
  {
   "cell_type": "code",
   "execution_count": 153,
   "metadata": {},
   "outputs": [
    {
     "data": {
      "text/plain": [
       "0.00091283390214391"
      ]
     },
     "execution_count": 153,
     "metadata": {},
     "output_type": "execute_result"
    }
   ],
   "source": [
    "metrics.mean_absolute_error(labels12, predictions)\n",
    "# with 10 trees = 0.001019779\n",
    "# with 20 trees = 0.000912970\n",
    "# with 30 trees = 0.000912833"
   ]
  },
  {
   "cell_type": "code",
   "execution_count": 154,
   "metadata": {},
   "outputs": [
    {
     "data": {
      "text/plain": [
       "0.7191462616965787"
      ]
     },
     "execution_count": 154,
     "metadata": {},
     "output_type": "execute_result"
    }
   ],
   "source": [
    "metrics.r2_score(labels12, predictions)\n",
    "# with 10 trees = 0.6180646658610581\n",
    "# with 20 trees = 0.7088619950477972\n",
    "# with 30 tress = 0.7191462616965787"
   ]
  },
  {
   "cell_type": "code",
   "execution_count": 155,
   "metadata": {},
   "outputs": [
    {
     "data": {
      "text/plain": [
       "<matplotlib.collections.PathCollection at 0x1a5fce6be0>"
      ]
     },
     "execution_count": 155,
     "metadata": {},
     "output_type": "execute_result"
    },
    {
     "data": {
      "image/png": "[encoded data removed]",
      "text/plain": [
       "<Figure size 432x288 with 1 Axes>"
      ]
     },
     "metadata": {
      "needs_background": "light"
     },
     "output_type": "display_data"
    }
   ],
   "source": [
    "plt.scatter(predictions, labels12)"
   ]
  },
  {
   "cell_type": "code",
   "execution_count": 156,
   "metadata": {},
   "outputs": [
    {
     "data": {
      "text/plain": [
       "amt_lastcycle                                   0.197839\n",
       "ndon_lastcycle                                  0.122562\n",
       "totalpopulation                                 0.058863\n",
       "totalhouse_marriedwithkidsU18                   0.051922\n",
       "totalpopulation_over65male                      0.046905\n",
       "totalpopulation_over65female                    0.046836\n",
       "totalpopulation_male                            0.043744\n",
       "percent_black                                   0.034344\n",
       "totalpopulation_over18female                    0.034090\n",
       "totalpopulation_female                          0.027450\n",
       "totalpopulation_over18male                      0.022194\n",
       "totalpopulation_withrelativesinhouse            0.021782\n",
       "fecyear                                         0.017884\n",
       "Pres_y1                                         0.017366\n",
       "totalhouse_livingalone_percent                  0.016544\n",
       "a06500                                          0.015722\n",
       "a07220                                          0.014329\n",
       "totalpopulation_withrelativesinhouse_percent    0.011116\n",
       "a18425                                          0.010104\n",
       "totalhouse_married_percent                      0.010006\n",
       "average_familysize                              0.009639\n",
       "party_DEM                                       0.009280\n",
       "party_THR                                       0.009184\n",
       "totalhouse_nonfamily_percent                    0.008896\n",
       "a07260                                          0.008384\n",
       "totalhouse_married                              0.007443\n",
       "renteroccupied_houses_count                     0.007141\n",
       "totalpopulation_percenthispanic_All             0.006995\n",
       "a00100                                          0.006912\n",
       "percent_twomoreraces                            0.006502\n",
       "                                                  ...   \n",
       "a18500                                          0.005282\n",
       "a18300                                          0.005040\n",
       "owneroccupied_houses_percent                    0.004757\n",
       "totalpopulation_hispanic_all                    0.004192\n",
       "a01700                                          0.004144\n",
       "owneroccupied_houses_count                      0.003276\n",
       "totalpopulation_percentover18female             0.003194\n",
       "percent_asian_korean                            0.003020\n",
       "percent_asian_chinese                           0.002941\n",
       "percent_white                                   0.002707\n",
       "percent_americanindian                          0.002665\n",
       "percent_asian_vietnamese                        0.002622\n",
       "totalpopulation_inhouse_unmarried               0.002566\n",
       "totalpopulation_inhouse_unmarried_percent       0.002560\n",
       "percent_asian                                   0.002464\n",
       "median_age                                      0.002301\n",
       "totalhouse_livingalone                          0.002277\n",
       "totalhouse_marriedwithkidsU18_percent           0.002245\n",
       "renteroccupied_houses_percent                   0.002087\n",
       "percent_asianindian                             0.002006\n",
       "totalpopulation_percentover65female             0.001809\n",
       "totalpopulation_percentover65male               0.001700\n",
       "totalpopulation_percentfemale                   0.001578\n",
       "totalhouse_nonfamily                            0.001262\n",
       "totalpopulation_percentmale                     0.001216\n",
       "totalpopulation_percentover18                   0.001151\n",
       "percent_asian_japanese                          0.001099\n",
       "population_percenturban                         0.001005\n",
       "percent_nativehawaiian                          0.000550\n",
       "numdep                                          0.000267\n",
       "Length: 64, dtype: float64"
      ]
     },
     "execution_count": 156,
     "metadata": {},
     "output_type": "execute_result"
    }
   ],
   "source": [
    "feature_imp = pd.Series(rf.feature_importances_, index=df_0810_list).sort_values(ascending=False)\n",
    "feature_imp"
   ]
  },
  {
   "cell_type": "markdown",
   "metadata": {},
   "source": [
    "### Validation on 2014 data"
   ]
  },
  {
   "cell_type": "code",
   "execution_count": 204,
   "metadata": {},
   "outputs": [
    {
     "data": {
      "text/html": [
       "<div>\n",
       "<style scoped>\n",
       "    .dataframe tbody tr th:only-of-type {\n",
       "        vertical-align: middle;\n",
       "    }\n",
       "\n",
       "    .dataframe tbody tr th {\n",
       "        vertical-align: top;\n",
       "    }\n",
       "\n",
       "    .dataframe thead th {\n",
       "        text-align: right;\n",
       "    }\n",
       "</style>\n",
       "<table border=\"1\" class=\"dataframe\">\n",
       "  <thead>\n",
       "    <tr style=\"text-align: right;\">\n",
       "      <th></th>\n",
       "      <th>fecyear</th>\n",
       "      <th>amt</th>\n",
       "      <th>ndon</th>\n",
       "      <th>amt_lastcycle</th>\n",
       "      <th>ndon_lastcycle</th>\n",
       "      <th>totalpopulation</th>\n",
       "      <th>median_age</th>\n",
       "      <th>totalpopulation_over18</th>\n",
       "      <th>totalpopulation_percentover18</th>\n",
       "      <th>totalpopulation_male</th>\n",
       "      <th>...</th>\n",
       "      <th>a18300</th>\n",
       "      <th>a07260</th>\n",
       "      <th>a07220</th>\n",
       "      <th>a06500</th>\n",
       "      <th>cd</th>\n",
       "      <th>donor_prob</th>\n",
       "      <th>donor_prob_lastcycle</th>\n",
       "      <th>party_DEM</th>\n",
       "      <th>party_REP</th>\n",
       "      <th>party_THR</th>\n",
       "    </tr>\n",
       "  </thead>\n",
       "  <tbody>\n",
       "    <tr>\n",
       "      <th>count</th>\n",
       "      <td>77984.0</td>\n",
       "      <td>7.798400e+04</td>\n",
       "      <td>77984.000000</td>\n",
       "      <td>7.798400e+04</td>\n",
       "      <td>77984.000000</td>\n",
       "      <td>77984.000000</td>\n",
       "      <td>77984.000000</td>\n",
       "      <td>77984.000000</td>\n",
       "      <td>77984.000000</td>\n",
       "      <td>77984.000000</td>\n",
       "      <td>...</td>\n",
       "      <td>77984.000000</td>\n",
       "      <td>77984.000000</td>\n",
       "      <td>77984.000000</td>\n",
       "      <td>77984.000000</td>\n",
       "      <td>77984.000000</td>\n",
       "      <td>77984.000000</td>\n",
       "      <td>77984.000000</td>\n",
       "      <td>77984.000000</td>\n",
       "      <td>77984.000000</td>\n",
       "      <td>77984.000000</td>\n",
       "    </tr>\n",
       "    <tr>\n",
       "      <th>mean</th>\n",
       "      <td>2014.0</td>\n",
       "      <td>2.452014e+03</td>\n",
       "      <td>2.510246</td>\n",
       "      <td>6.130470e+03</td>\n",
       "      <td>8.099290</td>\n",
       "      <td>9606.912649</td>\n",
       "      <td>41.066929</td>\n",
       "      <td>7292.056627</td>\n",
       "      <td>76.817343</td>\n",
       "      <td>4725.366473</td>\n",
       "      <td>...</td>\n",
       "      <td>2.327937</td>\n",
       "      <td>0.005448</td>\n",
       "      <td>0.192726</td>\n",
       "      <td>6.492853</td>\n",
       "      <td>7.251321</td>\n",
       "      <td>0.000351</td>\n",
       "      <td>0.000800</td>\n",
       "      <td>0.334363</td>\n",
       "      <td>0.339518</td>\n",
       "      <td>0.326118</td>\n",
       "    </tr>\n",
       "    <tr>\n",
       "      <th>std</th>\n",
       "      <td>0.0</td>\n",
       "      <td>1.898273e+04</td>\n",
       "      <td>16.880124</td>\n",
       "      <td>5.554783e+04</td>\n",
       "      <td>62.931001</td>\n",
       "      <td>12803.316948</td>\n",
       "      <td>6.204015</td>\n",
       "      <td>9618.223983</td>\n",
       "      <td>4.834811</td>\n",
       "      <td>6257.825085</td>\n",
       "      <td>...</td>\n",
       "      <td>4.242597</td>\n",
       "      <td>0.009521</td>\n",
       "      <td>0.078652</td>\n",
       "      <td>9.563841</td>\n",
       "      <td>7.698958</td>\n",
       "      <td>0.004302</td>\n",
       "      <td>0.006757</td>\n",
       "      <td>0.471770</td>\n",
       "      <td>0.473549</td>\n",
       "      <td>0.468794</td>\n",
       "    </tr>\n",
       "    <tr>\n",
       "      <th>min</th>\n",
       "      <td>2014.0</td>\n",
       "      <td>0.000000e+00</td>\n",
       "      <td>0.000000</td>\n",
       "      <td>0.000000e+00</td>\n",
       "      <td>0.000000</td>\n",
       "      <td>4.000000</td>\n",
       "      <td>18.800000</td>\n",
       "      <td>4.000000</td>\n",
       "      <td>51.200000</td>\n",
       "      <td>2.000000</td>\n",
       "      <td>...</td>\n",
       "      <td>0.000000</td>\n",
       "      <td>0.000000</td>\n",
       "      <td>0.000000</td>\n",
       "      <td>0.000000</td>\n",
       "      <td>0.000000</td>\n",
       "      <td>0.000000</td>\n",
       "      <td>0.000000</td>\n",
       "      <td>0.000000</td>\n",
       "      <td>0.000000</td>\n",
       "      <td>0.000000</td>\n",
       "    </tr>\n",
       "    <tr>\n",
       "      <th>25%</th>\n",
       "      <td>2014.0</td>\n",
       "      <td>0.000000e+00</td>\n",
       "      <td>0.000000</td>\n",
       "      <td>0.000000e+00</td>\n",
       "      <td>0.000000</td>\n",
       "      <td>1247.000000</td>\n",
       "      <td>37.700000</td>\n",
       "      <td>963.000000</td>\n",
       "      <td>74.200000</td>\n",
       "      <td>628.000000</td>\n",
       "      <td>...</td>\n",
       "      <td>0.753051</td>\n",
       "      <td>0.000000</td>\n",
       "      <td>0.153516</td>\n",
       "      <td>3.301876</td>\n",
       "      <td>2.000000</td>\n",
       "      <td>0.000000</td>\n",
       "      <td>0.000000</td>\n",
       "      <td>0.000000</td>\n",
       "      <td>0.000000</td>\n",
       "      <td>0.000000</td>\n",
       "    </tr>\n",
       "    <tr>\n",
       "      <th>50%</th>\n",
       "      <td>2014.0</td>\n",
       "      <td>0.000000e+00</td>\n",
       "      <td>0.000000</td>\n",
       "      <td>0.000000e+00</td>\n",
       "      <td>0.000000</td>\n",
       "      <td>3677.000000</td>\n",
       "      <td>41.200000</td>\n",
       "      <td>2805.500000</td>\n",
       "      <td>76.700000</td>\n",
       "      <td>1847.000000</td>\n",
       "      <td>...</td>\n",
       "      <td>1.371882</td>\n",
       "      <td>0.003746</td>\n",
       "      <td>0.196426</td>\n",
       "      <td>4.530194</td>\n",
       "      <td>5.000000</td>\n",
       "      <td>0.000000</td>\n",
       "      <td>0.000000</td>\n",
       "      <td>0.000000</td>\n",
       "      <td>0.000000</td>\n",
       "      <td>0.000000</td>\n",
       "    </tr>\n",
       "    <tr>\n",
       "      <th>75%</th>\n",
       "      <td>2014.0</td>\n",
       "      <td>0.000000e+00</td>\n",
       "      <td>0.000000</td>\n",
       "      <td>0.000000e+00</td>\n",
       "      <td>0.000000</td>\n",
       "      <td>13325.000000</td>\n",
       "      <td>44.600000</td>\n",
       "      <td>10149.000000</td>\n",
       "      <td>79.300000</td>\n",
       "      <td>6567.000000</td>\n",
       "      <td>...</td>\n",
       "      <td>2.547278</td>\n",
       "      <td>0.007260</td>\n",
       "      <td>0.236772</td>\n",
       "      <td>6.594603</td>\n",
       "      <td>9.000000</td>\n",
       "      <td>0.000000</td>\n",
       "      <td>0.000000</td>\n",
       "      <td>1.000000</td>\n",
       "      <td>1.000000</td>\n",
       "      <td>1.000000</td>\n",
       "    </tr>\n",
       "    <tr>\n",
       "      <th>max</th>\n",
       "      <td>2014.0</td>\n",
       "      <td>1.224766e+06</td>\n",
       "      <td>954.000000</td>\n",
       "      <td>3.913820e+06</td>\n",
       "      <td>3974.000000</td>\n",
       "      <td>111086.000000</td>\n",
       "      <td>80.900000</td>\n",
       "      <td>77452.000000</td>\n",
       "      <td>100.000000</td>\n",
       "      <td>53241.000000</td>\n",
       "      <td>...</td>\n",
       "      <td>208.061900</td>\n",
       "      <td>0.277349</td>\n",
       "      <td>0.994883</td>\n",
       "      <td>542.554200</td>\n",
       "      <td>53.000000</td>\n",
       "      <td>1.000000</td>\n",
       "      <td>1.000000</td>\n",
       "      <td>1.000000</td>\n",
       "      <td>1.000000</td>\n",
       "      <td>1.000000</td>\n",
       "    </tr>\n",
       "  </tbody>\n",
       "</table>\n",
       "<p>8 rows × 71 columns</p>\n",
       "</div>"
      ],
      "text/plain": [
       "       fecyear           amt          ndon  amt_lastcycle  ndon_lastcycle  \\\n",
       "count  77984.0  7.798400e+04  77984.000000   7.798400e+04    77984.000000   \n",
       "mean    2014.0  2.452014e+03      2.510246   6.130470e+03        8.099290   \n",
       "std        0.0  1.898273e+04     16.880124   5.554783e+04       62.931001   \n",
       "min     2014.0  0.000000e+00      0.000000   0.000000e+00        0.000000   \n",
       "25%     2014.0  0.000000e+00      0.000000   0.000000e+00        0.000000   \n",
       "50%     2014.0  0.000000e+00      0.000000   0.000000e+00        0.000000   \n",
       "75%     2014.0  0.000000e+00      0.000000   0.000000e+00        0.000000   \n",
       "max     2014.0  1.224766e+06    954.000000   3.913820e+06     3974.000000   \n",
       "\n",
       "       totalpopulation    median_age  totalpopulation_over18  \\\n",
       "count     77984.000000  77984.000000            77984.000000   \n",
       "mean       9606.912649     41.066929             7292.056627   \n",
       "std       12803.316948      6.204015             9618.223983   \n",
       "min           4.000000     18.800000                4.000000   \n",
       "25%        1247.000000     37.700000              963.000000   \n",
       "50%        3677.000000     41.200000             2805.500000   \n",
       "75%       13325.000000     44.600000            10149.000000   \n",
       "max      111086.000000     80.900000            77452.000000   \n",
       "\n",
       "       totalpopulation_percentover18  totalpopulation_male      ...       \\\n",
       "count                   77984.000000          77984.000000      ...        \n",
       "mean                       76.817343           4725.366473      ...        \n",
       "std                         4.834811           6257.825085      ...        \n",
       "min                        51.200000              2.000000      ...        \n",
       "25%                        74.200000            628.000000      ...        \n",
       "50%                        76.700000           1847.000000      ...        \n",
       "75%                        79.300000           6567.000000      ...        \n",
       "max                       100.000000          53241.000000      ...        \n",
       "\n",
       "             a18300        a07260        a07220        a06500            cd  \\\n",
       "count  77984.000000  77984.000000  77984.000000  77984.000000  77984.000000   \n",
       "mean       2.327937      0.005448      0.192726      6.492853      7.251321   \n",
       "std        4.242597      0.009521      0.078652      9.563841      7.698958   \n",
       "min        0.000000      0.000000      0.000000      0.000000      0.000000   \n",
       "25%        0.753051      0.000000      0.153516      3.301876      2.000000   \n",
       "50%        1.371882      0.003746      0.196426      4.530194      5.000000   \n",
       "75%        2.547278      0.007260      0.236772      6.594603      9.000000   \n",
       "max      208.061900      0.277349      0.994883    542.554200     53.000000   \n",
       "\n",
       "         donor_prob  donor_prob_lastcycle     party_DEM     party_REP  \\\n",
       "count  77984.000000          77984.000000  77984.000000  77984.000000   \n",
       "mean       0.000351              0.000800      0.334363      0.339518   \n",
       "std        0.004302              0.006757      0.471770      0.473549   \n",
       "min        0.000000              0.000000      0.000000      0.000000   \n",
       "25%        0.000000              0.000000      0.000000      0.000000   \n",
       "50%        0.000000              0.000000      0.000000      0.000000   \n",
       "75%        0.000000              0.000000      1.000000      1.000000   \n",
       "max        1.000000              1.000000      1.000000      1.000000   \n",
       "\n",
       "          party_THR  \n",
       "count  77984.000000  \n",
       "mean       0.326118  \n",
       "std        0.468794  \n",
       "min        0.000000  \n",
       "25%        0.000000  \n",
       "50%        0.000000  \n",
       "75%        1.000000  \n",
       "max        1.000000  \n",
       "\n",
       "[8 rows x 71 columns]"
      ]
     },
     "execution_count": 204,
     "metadata": {},
     "output_type": "execute_result"
    }
   ],
   "source": [
    "dfval.describe()"
   ]
  },
  {
   "cell_type": "code",
   "execution_count": 157,
   "metadata": {},
   "outputs": [],
   "source": [
    "labels_val = np.array(dfval['donor_prob'])\n",
    "\n",
    "dfval = dfval.drop(['amt', 'ndon', 'donor_prob', 'donor_prob_lastcycle'\n",
    "                  , 'totalpopulation_over18', 'zipcode', 'cd'\n",
    "                  , 'n1', 'n2'], axis = 1)\n",
    "\n",
    "# Saving feature names for later use\n",
    "dfval_list = list(dfval.columns)\n",
    "\n",
    "# Convert to numpy array\n",
    "dfval = np.array(dfval)"
   ]
  },
  {
   "cell_type": "code",
   "execution_count": 158,
   "metadata": {},
   "outputs": [],
   "source": [
    "valpredictions = rf.predict(dfval)"
   ]
  },
  {
   "cell_type": "code",
   "execution_count": 159,
   "metadata": {},
   "outputs": [
    {
     "data": {
      "text/plain": [
       "<matplotlib.collections.PathCollection at 0x1a1db64cc0>"
      ]
     },
     "execution_count": 159,
     "metadata": {},
     "output_type": "execute_result"
    },
    {
     "data": {
      "image/png": "[encoded data removed]",
      "text/plain": [
       "<Figure size 432x288 with 1 Axes>"
      ]
     },
     "metadata": {
      "needs_background": "light"
     },
     "output_type": "display_data"
    }
   ],
   "source": [
    "plt.scatter(labels_val, valpredictions)"
   ]
  },
  {
   "cell_type": "code",
   "execution_count": 160,
   "metadata": {},
   "outputs": [
    {
     "data": {
      "text/plain": [
       "0.5201259385401789"
      ]
     },
     "execution_count": 160,
     "metadata": {},
     "output_type": "execute_result"
    }
   ],
   "source": [
    "metrics.r2_score(labels_val,valpredictions)"
   ]
  },
  {
   "cell_type": "code",
   "execution_count": 240,
   "metadata": {},
   "outputs": [],
   "source": [
    "df = pd.read_csv(\"/Users/Taylor/Dropbox/0_Insight/PoliticalDonations/data/fullset_june30.csv\",\n",
    "                dtype={'zipcode': object, 'Pres_y1': object})\n",
    "df = pd.get_dummies(data=df, columns=['party'])\n",
    "dfval = df[df.fecyear == 2014 ]"
   ]
  },
  {
   "cell_type": "code",
   "execution_count": 242,
   "metadata": {},
   "outputs": [],
   "source": [
    "#valset_tokeep.dtypes"
   ]
  },
  {
   "cell_type": "code",
   "execution_count": 246,
   "metadata": {},
   "outputs": [],
   "source": [
    "# write out the data I need to look at my business outcome.\n",
    "tmp = pd.DataFrame({'zipcode': valset_tokeep.zipcode\n",
    "              , 'partyDEM': dfval.party_DEM\n",
    "              , 'partyREP': dfval.party_REP\n",
    "              , 'partyTHR':dfval.party_THR\n",
    "              , 'donor_prob':labels_val\n",
    "              , 'donor_prob_predicted':valpredictions\n",
    "              , 'donor_prob_lastcycle':valset_tokeep.donor_prob_lastcycle      \n",
    "              , 'totalpopulation_over18':valset_tokeep.totalpopulation_over18})"
   ]
  },
  {
   "cell_type": "code",
   "execution_count": 247,
   "metadata": {},
   "outputs": [],
   "source": [
    "tmp.to_csv(path_or_buf  = '/Users/Taylor/Dropbox/0_Insight/PoliticalDonations/data/predicted_probabilities_2014.csv', index=False)"
   ]
  },
  {
   "cell_type": "markdown",
   "metadata": {},
   "source": [
    "The R2 for the validation data is 0.52. As expected, this is lower than the testing R2 and makes sense since 2014 donation probability is be predicted based on a model trained on 2008 and 2010 data."
   ]
  }
 ],
 "metadata": {
  "kernelspec": {
   "display_name": "Python 3",
   "language": "python",
   "name": "python3"
  },
  "language_info": {
   "codemirror_mode": {
    "name": "ipython",
    "version": 3
   },
   "file_extension": ".py",
   "mimetype": "text/x-python",
   "name": "python",
   "nbconvert_exporter": "python",
   "pygments_lexer": "ipython3",
   "version": "3.7.1"
  }
 },
 "nbformat": 4,
 "nbformat_minor": 2
}
